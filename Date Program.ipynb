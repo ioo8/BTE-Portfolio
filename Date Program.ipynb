{
  "nbformat": 4,
  "nbformat_minor": 0,
  "metadata": {
    "colab": {
      "provenance": [],
      "authorship_tag": "ABX9TyOfQ79pSBgsBGNlZ2Vvt1a1",
      "include_colab_link": true
    },
    "kernelspec": {
      "name": "python3",
      "display_name": "Python 3"
    },
    "language_info": {
      "name": "python"
    }
  },
  "cells": [
    {
      "cell_type": "markdown",
      "metadata": {
        "id": "view-in-github",
        "colab_type": "text"
      },
      "source": [
        "<a href=\"https://colab.research.google.com/github/ioo8/BTE-Portfolio/blob/main/Slicing_Test.ipynb\" target=\"_parent\"><img src=\"https://colab.research.google.com/assets/colab-badge.svg\" alt=\"Open In Colab\"/></a>"
      ]
    },
    {
      "cell_type": "code",
      "execution_count": 4,
      "metadata": {
        "colab": {
          "base_uri": "https://localhost:8080/"
        },
        "id": "VThn8gTvNPKm",
        "outputId": "caca8a6c-b331-47c3-f2ca-d215259e90d2"
      },
      "outputs": [
        {
          "output_type": "stream",
          "name": "stdout",
          "text": [
            "enter date: MM/DD/YYYY04/16/2023\n",
            "04\n",
            "16\n",
            "2023\n"
          ]
        }
      ],
      "source": [
        "s = input(\"enter date: MM/DD/YYYY\")\n",
        "month_s = s[0:2]\n",
        "print(month_s)\n",
        "day_s = s[3:5]\n",
        "print(day_s)\n",
        "year_s = s[-4:len(s)]\n",
        "print(year_s)"
      ]
    }
  ]
}

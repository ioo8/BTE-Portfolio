{
  "nbformat": 4,
  "nbformat_minor": 0,
  "metadata": {
    "colab": {
      "provenance": [],
      "authorship_tag": "ABX9TyP3d3ScuBRgNXbBIaTfIbEA",
      "include_colab_link": true
    },
    "kernelspec": {
      "name": "python3",
      "display_name": "Python 3"
    },
    "language_info": {
      "name": "python"
    }
  },
  "cells": [
    {
      "cell_type": "markdown",
      "metadata": {
        "id": "view-in-github",
        "colab_type": "text"
      },
      "source": [
        "<a href=\"https://colab.research.google.com/github/ioo8/BTE-Portfolio/blob/main/rockpaperscissorsgame.ipynb\" target=\"_parent\"><img src=\"https://colab.research.google.com/assets/colab-badge.svg\" alt=\"Open In Colab\"/></a>"
      ]
    },
    {
      "cell_type": "code",
      "execution_count": null,
      "metadata": {
        "id": "Lyzm0bbv61gG"
      },
      "outputs": [],
      "source": [
        "import random\n",
        "\n",
        "userinput = input(\"Do you want to continue (y/n)? \")\n",
        "\n",
        "while userinput == \"y\":\n",
        "    user_choice = input(\"Enter your choice (rock, paper, or scissors): \")\n",
        "    computer_choice = random.choice([\"rock\", \"paper\", \"scissors\"])\n",
        "    print(f\"You chose: {user_choice}\")\n",
        "    print(f\"Computer chose: {computer_choice}\")\n",
        "\n",
        "    if user_choice == computer_choice:\n",
        "        print(\"It's a tie!\")\n",
        "    elif (\n",
        "            (user_choice == \"rock\" and computer_choice == \"scissors\") or\n",
        "            (user_choice == \"paper\" and computer_choice == \"rock\") or\n",
        "            (user_choice == \"scissors\" and computer_choice == \"paper\")\n",
        "    ):\n",
        "        print(\"You win!\")\n",
        "    else:\n",
        "        print(\"Computer wins!\")\n",
        "    break\n",
        "while userinput == \"n\":\n",
        "    quit()"
      ]
    }
  ]
}
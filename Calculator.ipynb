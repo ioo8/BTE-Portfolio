{
  "nbformat": 4,
  "nbformat_minor": 0,
  "metadata": {
    "colab": {
      "provenance": [],
      "authorship_tag": "ABX9TyOtGzUMtOzVoSwJ8bPKz/Oi",
      "include_colab_link": true
    },
    "kernelspec": {
      "name": "python3",
      "display_name": "Python 3"
    },
    "language_info": {
      "name": "python"
    }
  },
  "cells": [
    {
      "cell_type": "markdown",
      "metadata": {
        "id": "view-in-github",
        "colab_type": "text"
      },
      "source": [
        "<a href=\"https://colab.research.google.com/github/ioo8/BTE-Portfolio/blob/main/Calculator.ipynb\" target=\"_parent\"><img src=\"https://colab.research.google.com/assets/colab-badge.svg\" alt=\"Open In Colab\"/></a>"
      ]
    },
    {
      "cell_type": "code",
      "execution_count": null,
      "metadata": {
        "colab": {
          "base_uri": "https://localhost:8080/"
        },
        "id": "CY3KTnJlMLJ2",
        "outputId": "12ab0bcd-682d-4f42-9902-83339e0058b2"
      },
      "outputs": [
        {
          "name": "stdout",
          "output_type": "stream",
          "text": [
            "Do you want to use the calculator? (y/n)y\n",
            "Enter a number99\n",
            "Enter another number678\n",
            "Select a function:, +, -, x, /, %, ^, or exit\n",
            " enter here - %\n",
            "99.0\n",
            "Do you want to use the calculator? (y/n)y\n",
            "Enter a number2\n",
            "Enter another number3\n",
            "Select a function:, +, -, x, /, %, ^, or exit\n",
            " enter here - +\n",
            "5.0\n",
            "Do you want to use the calculator? (y/n)n\n"
          ]
        }
      ],
      "source": [
        "#calculator function\n",
        "while True:\n",
        "    option = input(\"Do you want to use the calculator? (y/n)\")\n",
        "    if option == \"y\":\n",
        "        first_number = float(input(\"Enter a number\"))\n",
        "        second_number = float(input(\"Enter another number\"))\n",
        "        operation = str(input( \"Select a function:\"\n",
        "                           \", +\"\n",
        "                           \", -\"\n",
        "                           \", x\"\n",
        "                           \", /\"\n",
        "                           \", %\"\n",
        "                           \", ^\"\n",
        "                           \", or exit\"\n",
        "                           \"\\n enter here - \"))\n",
        "        if operation == \"+\":\n",
        "            print(float(first_number + second_number))\n",
        "        elif operation == \"-\":\n",
        "            print(float(first_number - second_number))\n",
        "        elif operation == \"x\":\n",
        "            print(float(first_number * second_number))\n",
        "        elif operation == \"/\":\n",
        "            print(float(first_number/second_number))\n",
        "        elif operation == \"%\":\n",
        "            print(float(first_number % second_number))\n",
        "        elif operation == \"^\":\n",
        "            print(float(first_number ** second_number))\n",
        "    elif option == 'n':\n",
        "        break\n",
        "        print(\"Bye!\")"
      ]
    }
  ]
}
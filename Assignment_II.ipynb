{
  "cells": [
    {
      "cell_type": "markdown",
      "metadata": {
        "id": "view-in-github",
        "colab_type": "text"
      },
      "source": [
        "<a href=\"https://colab.research.google.com/github/ioo8/BTE-Portfolio/blob/main/Assignment_II.ipynb\" target=\"_parent\"><img src=\"https://colab.research.google.com/assets/colab-badge.svg\" alt=\"Open In Colab\"/></a>"
      ]
    },
    {
      "cell_type": "code",
      "execution_count": null,
      "metadata": {
        "id": "XXtAH5VT0tjR"
      },
      "outputs": [],
      "source": [
        "# Assignment 1 - Quality Control"
      ]
    },
    {
      "cell_type": "code",
      "execution_count": null,
      "metadata": {
        "colab": {
          "base_uri": "https://localhost:8080/"
        },
        "id": "_FNoLKJg1X_Q",
        "outputId": "82d88970-f211-4df5-f305-86d396037546"
      },
      "outputs": [
        {
          "name": "stdout",
          "output_type": "stream",
          "text": [
            "Enter the number of values: 9\n",
            "Enter value 1: 89\n",
            "Enter value 2: 3\n",
            "Enter value 3: 2\n",
            "Enter value 4: 45\n",
            "Enter value 5: 6\n",
            "Enter value 6: 32\n",
            "Enter value 7: 56\n",
            "Enter value 8: 764\n",
            "Enter value 9: 903894\n",
            "The average excluding the first two values is: 129257.0\n"
          ]
        }
      ],
      "source": [
        "def getValues(n): #\n",
        "    values = []\n",
        "    for i in range(n):\n",
        "        value = float(input(\"Enter value {}: \".format(i + 1)))\n",
        "        values.append(value)\n",
        "    return values\n",
        "\n",
        "def calcAverage(alist):\n",
        "    if len(alist) <= 2:\n",
        "        return 0\n",
        "    else:\n",
        "        return sum(alist[2:]) / (len(alist) - 2)\n",
        "\n",
        "def main():\n",
        "    n = int(input(\"Enter the number of values: \"))\n",
        "    values = getValues(n)\n",
        "    average = calcAverage(values)\n",
        "    print(\"The average excluding the first two values is:\", average)\n",
        "\n",
        "\n",
        "main()\n"
      ]
    },
    {
      "cell_type": "code",
      "execution_count": null,
      "metadata": {
        "colab": {
          "background_save": true,
          "base_uri": "https://localhost:8080/"
        },
        "id": "cbhquNWL2GOG",
        "outputId": "e0ba88df-79d7-4fb0-814f-ee90ad63850a"
      },
      "outputs": [
        {
          "name": "stdout",
          "output_type": "stream",
          "text": [
            "US fx = 1.0\n",
            "CA fx = 1.35\n",
            "Invalid country code. Retry.\n"
          ]
        }
      ],
      "source": [
        "# Assignment 2 - Country Statistics\n",
        "allData = {\n",
        "    'US': {'pop': 325.7, 'gdp': 19.39, 'ccy': 'USD', 'fx': 1.0},\n",
        "    'CA': {'pop': 36.5, 'gdp': 1.65, 'ccy': 'CAD', 'fx': 1.35},\n",
        "    'MX': {'pop': 129.2, 'gdp': 1.15, 'ccy': 'MXN', 'fx': 19.68}\n",
        "}\n",
        "\n",
        "while True:\n",
        "    country_code = input(\"Enter a country code (US, CA, or MX): \").upper()\n",
        "    if country_code not in allData:\n",
        "        print(\"Invalid country code. Retry.\")\n",
        "        continue\n",
        "\n",
        "    measure = input(\"Please enter a statistic (pop, gdp, ccy, or fx): \")\n",
        "    if measure not in allData[country_code]:\n",
        "        print(\"Invalid statistic. Retry.\")\n",
        "        continue\n",
        "\n",
        "    value = allData[country_code][measure]\n",
        "    print(\"{} {} = {}\".format(country_code, measure, value))\n"
      ]
    },
    {
      "cell_type": "code",
      "execution_count": null,
      "metadata": {
        "colab": {
          "base_uri": "https://localhost:8080/"
        },
        "id": "DivlXCSS4X2H",
        "outputId": "78e72672-82d1-4bc6-89ba-c97d7687f9e6"
      },
      "outputs": [
        {
          "name": "stdout",
          "output_type": "stream",
          "text": [
            "How many hours do you wish to park for? 90000\n",
            "The price is $20.00\n"
          ]
        }
      ],
      "source": [
        "# Assignment 3 - Parking Garage\n",
        "def getparkinghours():\n",
        "    rate = float(2.50)\n",
        "    hours = float(input(\"How many hours do you wish to park for? \"))\n",
        "    userprice = rate * hours\n",
        "    return userprice\n",
        "\n",
        "def calculateparkingfee():\n",
        "    userprice = getparkinghours()\n",
        "    if userprice <= 6.00:\n",
        "        print(\"The price is $6.00\")\n",
        "    elif 6.00 < userprice <= 20.00:\n",
        "        print(f'The price is {userprice}')\n",
        "    elif userprice > 20.00:\n",
        "        print(\"The price is $20.00\")\n",
        "\n",
        "calculateparkingfee()"
      ]
    },
    {
      "cell_type": "code",
      "execution_count": null,
      "metadata": {
        "colab": {
          "base_uri": "https://localhost:8080/"
        },
        "id": "7j9jSksL5nUG",
        "outputId": "39541cd6-7c80-4ed3-e70f-81db52d4c54b"
      },
      "outputs": [
        {
          "name": "stdout",
          "output_type": "stream",
          "text": [
            "Enter the number of credits: 10\n",
            "Tuition for 10 credits: $18200\n"
          ]
        }
      ],
      "source": [
        "# Assignment 4 - Tuition\n",
        "\n",
        "def calculateTuition(credits):\n",
        "    if credits >= 12:\n",
        "        tuition = 20000\n",
        "    else:\n",
        "        tuition = 1200 + 1700 * credits\n",
        "    return tuition\n",
        "\n",
        "def main():\n",
        "    credits = int(input(\"Enter the number of credits: \"))\n",
        "    tuition = calculateTuition(credits)\n",
        "    print(\"Tuition for {} credits: ${}\".format(credits, tuition))\n",
        "\n",
        "main()\n"
      ]
    }
  ],
  "metadata": {
    "colab": {
      "provenance": [],
      "authorship_tag": "ABX9TyNBKqAljgaGi65caG/SJ+xs",
      "include_colab_link": true
    },
    "kernelspec": {
      "display_name": "Python 3",
      "name": "python3"
    },
    "language_info": {
      "name": "python"
    }
  },
  "nbformat": 4,
  "nbformat_minor": 0
}
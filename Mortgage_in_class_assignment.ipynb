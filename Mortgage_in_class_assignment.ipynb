{
  "nbformat": 4,
  "nbformat_minor": 0,
  "metadata": {
    "colab": {
      "provenance": [],
      "authorship_tag": "ABX9TyNWllXRTboIBox4D7EkBqEu",
      "include_colab_link": true
    },
    "kernelspec": {
      "name": "python3",
      "display_name": "Python 3"
    },
    "language_info": {
      "name": "python"
    }
  },
  "cells": [
    {
      "cell_type": "markdown",
      "metadata": {
        "id": "view-in-github",
        "colab_type": "text"
      },
      "source": [
        "<a href=\"https://colab.research.google.com/github/ioo8/BTE-Portfolio/blob/main/Mortgage_in_class_assignment.ipynb\" target=\"_parent\"><img src=\"https://colab.research.google.com/assets/colab-badge.svg\" alt=\"Open In Colab\"/></a>"
      ]
    },
    {
      "cell_type": "code",
      "execution_count": 39,
      "metadata": {
        "id": "z7KQ5KNPqvVs"
      },
      "outputs": [],
      "source": [
        "class Mortgage:\n",
        "  def __init__(self, initial, maturity, rate):\n",
        "    self.initial = initial\n",
        "    self.maturity = maturity\n",
        "    self.__rate = rate\n",
        "\n",
        "  def __str__(self):\n",
        "    return f'Mortgage info:\\n Initial Loan amount: {self.initial} \\n Maturity Term: {self.maturity} \\n Interest Rate: {self.__rate}'\n",
        "\n",
        "  __repr__ = __str__\n",
        "\n",
        "  def get_rate(self):\n",
        "    return self.__rate\n",
        "\n",
        "\n",
        "  def set_rate(self, newRate):\n",
        "    if newRate >= 0:\n",
        "      self.__rate = newRate\n",
        "    else:\n",
        "      print('Interest must be non-negative!')\n",
        "\n",
        "\n",
        "  def payment(self):\n",
        "    B = self.initial\n",
        "    n = self.maturity * 12\n",
        "    r = self.__rate / 100\n",
        "    return B * (r * (1 + r) ** n ) / ((1 + r) ** n - 1)\n",
        "\n"
      ]
    },
    {
      "cell_type": "code",
      "source": [
        "m = Mortgage(100000, 30, 6)"
      ],
      "metadata": {
        "id": "mM8Q3ezmwsMQ"
      },
      "execution_count": 37,
      "outputs": []
    },
    {
      "cell_type": "code",
      "source": [
        "print(m)"
      ],
      "metadata": {
        "colab": {
          "base_uri": "https://localhost:8080/"
        },
        "id": "j-C3sC4tPQPk",
        "outputId": "b5e008ef-995b-483b-a322-07154ad4ff6a"
      },
      "execution_count": 38,
      "outputs": [
        {
          "output_type": "stream",
          "name": "stdout",
          "text": [
            "Mortgage info:\n",
            " Initial Loan amount: 100000 \n",
            " Maturity Term: 30 \n",
            " Interest Rate: 6\n"
          ]
        }
      ]
    },
    {
      "cell_type": "code",
      "source": [
        "m.payment()"
      ],
      "metadata": {
        "colab": {
          "base_uri": "https://localhost:8080/"
        },
        "id": "ORKYQXo3wv-B",
        "outputId": "c88ba1b7-05cd-42f2-d2ea-d57451000cba"
      },
      "execution_count": null,
      "outputs": [
        {
          "output_type": "execute_result",
          "data": {
            "text/plain": [
              "6000.000004656286"
            ]
          },
          "metadata": {},
          "execution_count": 67
        }
      ]
    },
    {
      "cell_type": "code",
      "source": [
        "m.set_rate(5)\n",
        "m.get_rate()"
      ],
      "metadata": {
        "colab": {
          "base_uri": "https://localhost:8080/"
        },
        "id": "fMGBA6xQx6Rw",
        "outputId": "0096e5d6-a222-4486-bede-0937a8a09856"
      },
      "execution_count": null,
      "outputs": [
        {
          "output_type": "execute_result",
          "data": {
            "text/plain": [
              "5"
            ]
          },
          "metadata": {},
          "execution_count": 69
        }
      ]
    },
    {
      "cell_type": "code",
      "source": [
        "class A:\n",
        "  def __init__(self, item):\n",
        "    self.item = item\n",
        "  def whoAmI(self):\n",
        "    print('I am an instance of class A')\n",
        "  def __repr__(self):\n",
        "    return f'item: {self.item}'\n",
        "  def __add__(self,other):\n",
        "    return self.item + other.item\n",
        "\n",
        "class B:\n",
        "  def __init__(self, item):\n",
        "    self.item = item\n",
        "  def whoAmI(self):\n",
        "    print('I am an instance of class B')\n",
        "\n",
        "a1 = A(2)\n",
        "a2 = A(5)\n",
        "b = B(3)"
      ],
      "metadata": {
        "id": "IdA3JEr4GdoI"
      },
      "execution_count": 18,
      "outputs": []
    },
    {
      "cell_type": "code",
      "source": [
        "b.whoAmI()"
      ],
      "metadata": {
        "colab": {
          "base_uri": "https://localhost:8080/"
        },
        "id": "1zs7XnuAG_f0",
        "outputId": "9102ec6b-3c22-4168-ce3e-8e5f8776e839"
      },
      "execution_count": 6,
      "outputs": [
        {
          "output_type": "stream",
          "name": "stdout",
          "text": [
            "I am an instance of class B\n"
          ]
        }
      ]
    },
    {
      "cell_type": "code",
      "source": [
        "print(a)"
      ],
      "metadata": {
        "colab": {
          "base_uri": "https://localhost:8080/"
        },
        "id": "Gn60Pv-eHXIz",
        "outputId": "da115f16-5df0-4cc6-c90d-2672b360408a"
      },
      "execution_count": 11,
      "outputs": [
        {
          "output_type": "stream",
          "name": "stdout",
          "text": [
            "item: 2\n"
          ]
        }
      ]
    },
    {
      "cell_type": "code",
      "source": [
        "a1 + a2"
      ],
      "metadata": {
        "colab": {
          "base_uri": "https://localhost:8080/"
        },
        "id": "WGiZULrSJXM1",
        "outputId": "2da53cee-97ce-42b5-cbd3-032eb8364b12"
      },
      "execution_count": 19,
      "outputs": [
        {
          "output_type": "execute_result",
          "data": {
            "text/plain": [
              "7"
            ]
          },
          "metadata": {},
          "execution_count": 19
        }
      ]
    }
  ]
}
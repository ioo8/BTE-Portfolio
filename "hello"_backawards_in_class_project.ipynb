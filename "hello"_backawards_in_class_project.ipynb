{
  "nbformat": 4,
  "nbformat_minor": 0,
  "metadata": {
    "colab": {
      "provenance": [],
      "authorship_tag": "ABX9TyOr5wPUKdQnzXalkK7w/09Q",
      "include_colab_link": true
    },
    "kernelspec": {
      "name": "python3",
      "display_name": "Python 3"
    },
    "language_info": {
      "name": "python"
    }
  },
  "cells": [
    {
      "cell_type": "markdown",
      "metadata": {
        "id": "view-in-github",
        "colab_type": "text"
      },
      "source": [
        "<a href=\"https://colab.research.google.com/github/ioo8/BTE-Portfolio/blob/main/%22hello%22_backawards_in_class_project.ipynb\" target=\"_parent\"><img src=\"https://colab.research.google.com/assets/colab-badge.svg\" alt=\"Open In Colab\"/></a>"
      ]
    },
    {
      "cell_type": "code",
      "execution_count": null,
      "metadata": {
        "id": "evRoqyTwIzfm"
      },
      "outputs": [],
      "source": [
        "def factR(n):\n",
        "    if n == 1:\n",
        "        return 1\n",
        "    else:\n",
        "        return n * factR(n - 1)\n",
        "\n",
        "\n",
        "\n",
        "def hello_transformation(hello):\n",
        "    word = \"hello\"\n",
        "    backwards_word = word[::-1]\n",
        "    print(backwards_word)\n",
        "\n",
        "hello_transformation(\"hello\")"
      ]
    }
  ]
}
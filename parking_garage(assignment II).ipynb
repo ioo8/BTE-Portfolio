{
  "nbformat": 4,
  "nbformat_minor": 0,
  "metadata": {
    "colab": {
      "provenance": [],
      "authorship_tag": "ABX9TyPAVELX4MfUj7IYxeBtz3XK",
      "include_colab_link": true
    },
    "kernelspec": {
      "name": "python3",
      "display_name": "Python 3"
    },
    "language_info": {
      "name": "python"
    }
  },
  "cells": [
    {
      "cell_type": "markdown",
      "metadata": {
        "id": "view-in-github",
        "colab_type": "text"
      },
      "source": [
        "<a href=\"https://colab.research.google.com/github/ioo8/BTE-Portfolio/blob/main/parking_garage.ipynb\" target=\"_parent\"><img src=\"https://colab.research.google.com/assets/colab-badge.svg\" alt=\"Open In Colab\"/></a>"
      ]
    },
    {
      "cell_type": "code",
      "execution_count": 1,
      "metadata": {
        "colab": {
          "base_uri": "https://localhost:8080/"
        },
        "id": "ztqLSaVkTMKH",
        "outputId": "fda4b24f-fc7b-49e7-8ae1-66322c4f84cf"
      },
      "outputs": [
        {
          "output_type": "stream",
          "name": "stdout",
          "text": [
            "How many hours do you wish to park for?7\n",
            "The price is 17.5\n"
          ]
        }
      ],
      "source": [
        "def getparkinghours():\n",
        "    rate = float(2.50)\n",
        "    hours = float(input(\"How many hours do you wish to park for?\"))\n",
        "    userprice = rate * hours\n",
        "    return userprice\n",
        "\n",
        "def calculateparkingfee():\n",
        "    userprice = getparkinghours()\n",
        "    if userprice <= 6.00:\n",
        "        print(\"The price is $6.00\")\n",
        "    elif 6.00 < userprice <= 20.00:\n",
        "        print(f'The price is {userprice}')\n",
        "    elif userprice > 20.00:\n",
        "        print(\"The price is $20.00\")\n",
        "\n",
        "calculateparkingfee()"
      ]
    }
  ]
}
